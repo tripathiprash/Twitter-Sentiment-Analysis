{
  "metadata": {
    "kernelspec": {
      "language": "python",
      "display_name": "Python 3",
      "name": "python3"
    },
    "language_info": {
      "pygments_lexer": "ipython3",
      "nbconvert_exporter": "python",
      "version": "3.6.4",
      "file_extension": ".py",
      "codemirror_mode": {
        "name": "ipython",
        "version": 3
      },
      "name": "python",
      "mimetype": "text/x-python"
    },
    "colab": {
      "provenance": []
    }
  },
  "nbformat_minor": 0,
  "nbformat": 4,
  "cells": [
    {
      "cell_type": "code",
      "source": [
        "import pandas as pd\n",
        "#pandas\n",
        "import numpy as np\n",
        "#numpy\n",
        "import matplotlib.pyplot as plt\n",
        "#matplotlib\n",
        "import seaborn as sns\n",
        "#seaborn\n",
        "from sklearn.model_selection import train_test_split\n",
        "from sklearn.metrics import classification_report\n",
        "#sklearn\n",
        "from keras.preprocessing.text import Tokenizer\n",
        "from keras.preprocessing.sequence import pad_sequences\n",
        "from keras.models import Sequential\n",
        "from keras.layers import Activation, Dense, Dropout, Embedding, Flatten, Conv1D, MaxPooling1D, LSTM\n",
        "from keras import utils\n",
        "from keras.callbacks import ReduceLROnPlateau, EarlyStopping\n",
        "from tensorflow.keras.optimizers import Adam\n",
        "#keras\n",
        "import tensorflow as tf\n",
        "#tensorflow\n",
        "import nltk\n",
        "nltk.download('stopwords')\n",
        "from nltk.corpus import stopwords\n",
        "from nltk.stem import SnowballStemmer\n",
        "#nltk\n",
        "import re\n",
        "import os\n",
        "#other useful stuff\n",
        "from wordcloud import WordCloud, STOPWORDS\n",
        "#wordclouds and cloud stopwords\n",
        "import warnings\n",
        "warnings.filterwarnings(\"ignore\")"
      ],
      "metadata": {
        "_uuid": "8f2839f25d086af736a60e9eeb907d3b93b6e0e5",
        "_cell_guid": "b1076dfc-b9ad-4769-8c92-a6c4dae69d19",
        "execution": {
          "iopub.status.busy": "2022-05-02T11:49:50.610622Z",
          "iopub.execute_input": "2022-05-02T11:49:50.610947Z",
          "iopub.status.idle": "2022-05-02T11:49:50.742661Z",
          "shell.execute_reply.started": "2022-05-02T11:49:50.610919Z",
          "shell.execute_reply": "2022-05-02T11:49:50.741844Z"
        },
        "trusted": true,
        "id": "iGrknvdwS8os"
      },
      "execution_count": null,
      "outputs": []
    },
    {
      "cell_type": "code",
      "source": [
        "df=pd.read_csv('../input/training1600000processednoemoticoncsv/training.1600000.processed.noemoticon.csv', encoding='latin')"
      ],
      "metadata": {
        "execution": {
          "iopub.status.busy": "2022-05-02T11:49:50.744408Z",
          "iopub.execute_input": "2022-05-02T11:49:50.744868Z",
          "iopub.status.idle": "2022-05-02T11:49:54.490024Z",
          "shell.execute_reply.started": "2022-05-02T11:49:50.74483Z",
          "shell.execute_reply": "2022-05-02T11:49:54.489199Z"
        },
        "trusted": true,
        "id": "BOsatw-NS8ou"
      },
      "execution_count": null,
      "outputs": []
    },
    {
      "cell_type": "code",
      "source": [
        "head=['target', 'ID', 'Date', 'Flag', 'User', 'Message']\n",
        "df.columns=head"
      ],
      "metadata": {
        "execution": {
          "iopub.status.busy": "2022-05-02T11:49:54.492204Z",
          "iopub.execute_input": "2022-05-02T11:49:54.492416Z",
          "iopub.status.idle": "2022-05-02T11:49:54.49931Z",
          "shell.execute_reply.started": "2022-05-02T11:49:54.492389Z",
          "shell.execute_reply": "2022-05-02T11:49:54.498488Z"
        },
        "trusted": true,
        "id": "zPC0DCrdS8ou"
      },
      "execution_count": null,
      "outputs": []
    },
    {
      "cell_type": "markdown",
      "source": [],
      "metadata": {
        "id": "1WuP5Qs3S8ov"
      }
    },
    {
      "cell_type": "code",
      "source": [
        "target=df['target']\n",
        "target.value_counts()"
      ],
      "metadata": {
        "execution": {
          "iopub.status.busy": "2022-05-02T11:49:54.501957Z",
          "iopub.execute_input": "2022-05-02T11:49:54.502475Z",
          "iopub.status.idle": "2022-05-02T11:49:54.522233Z",
          "shell.execute_reply.started": "2022-05-02T11:49:54.502437Z",
          "shell.execute_reply": "2022-05-02T11:49:54.521429Z"
        },
        "trusted": true,
        "id": "91Oau1IFS8ow"
      },
      "execution_count": null,
      "outputs": []
    },
    {
      "cell_type": "code",
      "source": [
        "df.drop(columns=['Flag'], inplace=True)\n",
        "df.columns"
      ],
      "metadata": {
        "execution": {
          "iopub.status.busy": "2022-05-02T11:49:54.523294Z",
          "iopub.execute_input": "2022-05-02T11:49:54.523576Z",
          "iopub.status.idle": "2022-05-02T11:49:54.635116Z",
          "shell.execute_reply.started": "2022-05-02T11:49:54.523541Z",
          "shell.execute_reply": "2022-05-02T11:49:54.634426Z"
        },
        "trusted": true,
        "id": "wV3s1vV3S8ow"
      },
      "execution_count": null,
      "outputs": []
    },
    {
      "cell_type": "code",
      "source": [
        "df"
      ],
      "metadata": {
        "execution": {
          "iopub.status.busy": "2022-05-02T11:49:54.636225Z",
          "iopub.execute_input": "2022-05-02T11:49:54.636666Z",
          "iopub.status.idle": "2022-05-02T11:49:54.653912Z",
          "shell.execute_reply.started": "2022-05-02T11:49:54.636628Z",
          "shell.execute_reply": "2022-05-02T11:49:54.653215Z"
        },
        "trusted": true,
        "id": "BkfWERtDS8ow"
      },
      "execution_count": null,
      "outputs": []
    },
    {
      "cell_type": "code",
      "source": [
        "df['target'] = df['target'].replace([0, 4],[0,1])"
      ],
      "metadata": {
        "execution": {
          "iopub.status.busy": "2022-05-02T11:49:54.655223Z",
          "iopub.execute_input": "2022-05-02T11:49:54.655637Z",
          "iopub.status.idle": "2022-05-02T11:49:54.677327Z",
          "shell.execute_reply.started": "2022-05-02T11:49:54.655601Z",
          "shell.execute_reply": "2022-05-02T11:49:54.67656Z"
        },
        "trusted": true,
        "id": "p9svRgZHS8ox"
      },
      "execution_count": null,
      "outputs": []
    },
    {
      "cell_type": "code",
      "source": [
        "df['length'] = df.Message.str.split().apply(len)\n",
        "df"
      ],
      "metadata": {
        "execution": {
          "iopub.status.busy": "2022-05-02T11:49:54.678787Z",
          "iopub.execute_input": "2022-05-02T11:49:54.679067Z",
          "iopub.status.idle": "2022-05-02T11:51:04.514136Z",
          "shell.execute_reply.started": "2022-05-02T11:49:54.67903Z",
          "shell.execute_reply": "2022-05-02T11:51:04.513384Z"
        },
        "trusted": true,
        "id": "tVNU6jg6S8ox"
      },
      "execution_count": null,
      "outputs": []
    },
    {
      "cell_type": "code",
      "source": [
        "# plt.figure(figsize=(14,7))\n",
        "# word_cloud = WordCloud(stopwords = STOPWORDS, max_words = 200, width=1366, height=768, background_color=\"white\").generate(\" \".join(df[df.target==1].Message))\n",
        "# plt.imshow(word_cloud,interpolation='bilinear')\n",
        "# plt.axis('off')\n",
        "# plt.title('Most common words in positive sentiment tweets.',fontsize=20)\n",
        "# plt.show()"
      ],
      "metadata": {
        "execution": {
          "iopub.status.busy": "2022-05-02T11:51:04.515483Z",
          "iopub.execute_input": "2022-05-02T11:51:04.515764Z",
          "iopub.status.idle": "2022-05-02T11:51:04.520013Z",
          "shell.execute_reply.started": "2022-05-02T11:51:04.51573Z",
          "shell.execute_reply": "2022-05-02T11:51:04.519373Z"
        },
        "trusted": true,
        "id": "E578ganmS8ox"
      },
      "execution_count": null,
      "outputs": []
    },
    {
      "cell_type": "code",
      "source": [
        "# plt.figure(figsize=(14,7))\n",
        "# word_cloud = WordCloud(stopwords = STOPWORDS, max_words = 200, width=1366, height=768, background_color=\"white\").generate(\" \".join(df[df.target==0].Message))\n",
        "# plt.imshow(word_cloud,interpolation='bilinear')\n",
        "# plt.axis('off')\n",
        "# plt.title('Most common words in negative sentiment tweets.',fontsize=20)\n",
        "# plt.show()"
      ],
      "metadata": {
        "execution": {
          "iopub.status.busy": "2022-05-02T11:51:04.523255Z",
          "iopub.execute_input": "2022-05-02T11:51:04.52405Z",
          "iopub.status.idle": "2022-05-02T11:51:04.529151Z",
          "shell.execute_reply.started": "2022-05-02T11:51:04.524013Z",
          "shell.execute_reply": "2022-05-02T11:51:04.528469Z"
        },
        "trusted": true,
        "id": "TZXBQMVVS8oy"
      },
      "execution_count": null,
      "outputs": []
    },
    {
      "cell_type": "code",
      "source": [
        "df.drop(columns=['ID', 'Date', 'User', 'length'], inplace=True)\n",
        "df"
      ],
      "metadata": {
        "execution": {
          "iopub.status.busy": "2022-05-02T11:51:04.530365Z",
          "iopub.execute_input": "2022-05-02T11:51:04.5308Z",
          "iopub.status.idle": "2022-05-02T11:51:04.590413Z",
          "shell.execute_reply.started": "2022-05-02T11:51:04.530768Z",
          "shell.execute_reply": "2022-05-02T11:51:04.589708Z"
        },
        "trusted": true,
        "id": "0NiF_a64S8oy"
      },
      "execution_count": null,
      "outputs": []
    },
    {
      "cell_type": "code",
      "source": [
        "english_stopwords = stopwords.words('english')\n",
        "stemmer = SnowballStemmer('english')\n",
        "regex = \"@\\S+|https?:\\S+|http?:\\S|[^A-Za-z0-9]+\""
      ],
      "metadata": {
        "execution": {
          "iopub.status.busy": "2022-05-02T11:51:04.591706Z",
          "iopub.execute_input": "2022-05-02T11:51:04.592099Z",
          "iopub.status.idle": "2022-05-02T11:51:04.59687Z",
          "shell.execute_reply.started": "2022-05-02T11:51:04.592061Z",
          "shell.execute_reply": "2022-05-02T11:51:04.596046Z"
        },
        "trusted": true,
        "id": "MQORcuDgS8oy"
      },
      "execution_count": null,
      "outputs": []
    },
    {
      "cell_type": "code",
      "source": [
        "def preprocess(message, stem=False):\n",
        "  message = re.sub(regex, ' ', str(message).lower()).strip()\n",
        "  tokens = []\n",
        "  for token in message.split():\n",
        "    if token not in english_stopwords:\n",
        "      tokens.append(stemmer.stem(token))\n",
        "  return \" \".join(tokens)"
      ],
      "metadata": {
        "execution": {
          "iopub.status.busy": "2022-05-02T11:51:04.598271Z",
          "iopub.execute_input": "2022-05-02T11:51:04.598916Z",
          "iopub.status.idle": "2022-05-02T11:51:04.605729Z",
          "shell.execute_reply.started": "2022-05-02T11:51:04.59888Z",
          "shell.execute_reply": "2022-05-02T11:51:04.605014Z"
        },
        "trusted": true,
        "id": "ZjVZ_RNdS8oy"
      },
      "execution_count": null,
      "outputs": []
    },
    {
      "cell_type": "code",
      "source": [
        "df.Message = df.Message.apply(lambda x: preprocess(x))\n",
        "df"
      ],
      "metadata": {
        "execution": {
          "iopub.status.busy": "2022-05-02T11:51:04.606923Z",
          "iopub.execute_input": "2022-05-02T11:51:04.607295Z",
          "iopub.status.idle": "2022-05-02T11:54:50.715345Z",
          "shell.execute_reply.started": "2022-05-02T11:51:04.607258Z",
          "shell.execute_reply": "2022-05-02T11:54:50.714421Z"
        },
        "trusted": true,
        "id": "KoRUfZANS8oy"
      },
      "execution_count": null,
      "outputs": []
    },
    {
      "cell_type": "code",
      "source": [
        "missing_data = df.isna().sum().sort_values(ascending=False)\n",
        "percentage_missing = round((df.isnull().sum()/df.isnull().count()).sort_values(ascending=False)*100,2)\n",
        "missing_info = pd.concat([missing_data,percentage_missing],keys=['Missing values','Percentage'],axis=1)\n",
        "missing_info.style.background_gradient()"
      ],
      "metadata": {
        "execution": {
          "iopub.status.busy": "2022-05-02T11:54:50.716886Z",
          "iopub.execute_input": "2022-05-02T11:54:50.717167Z",
          "iopub.status.idle": "2022-05-02T11:54:51.22962Z",
          "shell.execute_reply.started": "2022-05-02T11:54:50.717128Z",
          "shell.execute_reply": "2022-05-02T11:54:51.228919Z"
        },
        "trusted": true,
        "id": "y7F_6hSsS8oy"
      },
      "execution_count": null,
      "outputs": []
    },
    {
      "cell_type": "code",
      "source": [
        "df.to_csv('processedf.csv',na_rep='Unkown')\n",
        "# df.to_csv('processed.csv')"
      ],
      "metadata": {
        "execution": {
          "iopub.status.busy": "2022-05-02T11:54:51.23089Z",
          "iopub.execute_input": "2022-05-02T11:54:51.231291Z",
          "iopub.status.idle": "2022-05-02T11:54:57.565321Z",
          "shell.execute_reply.started": "2022-05-02T11:54:51.231253Z",
          "shell.execute_reply": "2022-05-02T11:54:57.564349Z"
        },
        "trusted": true,
        "id": "YRKIsmecS8oy"
      },
      "execution_count": null,
      "outputs": []
    },
    {
      "cell_type": "code",
      "source": [
        "# df=pd.read_csv('../input/processedf/processedf.csv', encoding='latin')\n",
        "# df['target'] = df['target'].replace([0, 4],[0,1])\n",
        "# df"
      ],
      "metadata": {
        "execution": {
          "iopub.status.busy": "2022-05-02T11:54:57.566871Z",
          "iopub.execute_input": "2022-05-02T11:54:57.567127Z",
          "iopub.status.idle": "2022-05-02T11:54:57.570621Z",
          "shell.execute_reply.started": "2022-05-02T11:54:57.567095Z",
          "shell.execute_reply": "2022-05-02T11:54:57.56994Z"
        },
        "trusted": true,
        "id": "u5EmK9P3S8oy"
      },
      "execution_count": null,
      "outputs": []
    },
    {
      "cell_type": "code",
      "source": [
        "# missing_data = df.isna().sum().sort_values(ascending=False)\n",
        "# percentage_missing = round((df.isnull().sum()/df.isnull().count()).sort_values(ascending=False)*100,2)\n",
        "# missing_info = pd.concat([missing_data,percentage_missing],keys=['Missing values','Percentage'],axis=1)\n",
        "# missing_info.style.background_gradient()"
      ],
      "metadata": {
        "execution": {
          "iopub.status.busy": "2022-05-02T11:54:57.57183Z",
          "iopub.execute_input": "2022-05-02T11:54:57.572212Z",
          "iopub.status.idle": "2022-05-02T11:54:57.579739Z",
          "shell.execute_reply.started": "2022-05-02T11:54:57.572179Z",
          "shell.execute_reply": "2022-05-02T11:54:57.579041Z"
        },
        "trusted": true,
        "id": "wC4jIeziS8oz"
      },
      "execution_count": null,
      "outputs": []
    },
    {
      "cell_type": "code",
      "source": [
        "train, test = train_test_split(df, test_size=0.1, random_state=44)"
      ],
      "metadata": {
        "execution": {
          "iopub.status.busy": "2022-05-02T11:54:57.580628Z",
          "iopub.execute_input": "2022-05-02T11:54:57.581191Z",
          "iopub.status.idle": "2022-05-02T11:54:57.915582Z",
          "shell.execute_reply.started": "2022-05-02T11:54:57.58115Z",
          "shell.execute_reply": "2022-05-02T11:54:57.91479Z"
        },
        "trusted": true,
        "id": "wgT0-9DwS8oz"
      },
      "execution_count": null,
      "outputs": []
    },
    {
      "cell_type": "code",
      "source": [
        "train.to_csv('train.csv')\n",
        "test.to_csv('test.csv')"
      ],
      "metadata": {
        "execution": {
          "iopub.status.busy": "2022-05-02T11:54:57.917039Z",
          "iopub.execute_input": "2022-05-02T11:54:57.917306Z",
          "iopub.status.idle": "2022-05-02T11:55:03.829618Z",
          "shell.execute_reply.started": "2022-05-02T11:54:57.917269Z",
          "shell.execute_reply": "2022-05-02T11:55:03.828704Z"
        },
        "trusted": true,
        "id": "GpP7s7wIS8oz"
      },
      "execution_count": null,
      "outputs": []
    },
    {
      "cell_type": "code",
      "source": [
        "tokenizer = Tokenizer()\n",
        "tokenizer.fit_on_texts(train.Message)\n",
        "vocab_size = len(tokenizer.word_index) + 1\n",
        "max_length = 50"
      ],
      "metadata": {
        "execution": {
          "iopub.status.busy": "2022-05-02T11:55:03.830911Z",
          "iopub.execute_input": "2022-05-02T11:55:03.831357Z",
          "iopub.status.idle": "2022-05-02T11:55:24.148867Z",
          "shell.execute_reply.started": "2022-05-02T11:55:03.831314Z",
          "shell.execute_reply": "2022-05-02T11:55:24.148068Z"
        },
        "trusted": true,
        "id": "aWVwrFHzS8oz"
      },
      "execution_count": null,
      "outputs": []
    },
    {
      "cell_type": "code",
      "source": [
        "sequences_train = tokenizer.texts_to_sequences(train.Message)\n",
        "sequences_test = tokenizer.texts_to_sequences(test.Message)\n",
        "\n",
        "X_train = pad_sequences(sequences_train, maxlen=max_length, padding='post')\n",
        "X_test = pad_sequences(sequences_test, maxlen=max_length, padding='post')\n",
        "\n",
        "y_train = train.target.values\n",
        "y_test = test.target.values"
      ],
      "metadata": {
        "execution": {
          "iopub.status.busy": "2022-05-02T11:55:24.150084Z",
          "iopub.execute_input": "2022-05-02T11:55:24.150368Z",
          "iopub.status.idle": "2022-05-02T11:55:50.390631Z",
          "shell.execute_reply.started": "2022-05-02T11:55:24.150332Z",
          "shell.execute_reply": "2022-05-02T11:55:50.389873Z"
        },
        "trusted": true,
        "id": "QCleDJcBS8oz"
      },
      "execution_count": null,
      "outputs": []
    },
    {
      "cell_type": "code",
      "source": [
        "embeddings_dictionary = dict()\n",
        "embedding_dim = 100\n",
        "glove_file = open('/kaggle/input/glove6b100dtxt/glove.6B.100d.txt')\n",
        "\n",
        "for line in glove_file:\n",
        "    records = line.split()\n",
        "    word = records[0]\n",
        "    vector_dimensions = np.asarray(records[1:], dtype='float32')\n",
        "    embeddings_dictionary [word] = vector_dimensions\n",
        "\n",
        "glove_file.close()\n",
        "\n",
        "embeddings_matrix = np.zeros((vocab_size, embedding_dim))\n",
        "for word, index in tokenizer.word_index.items():\n",
        "    embedding_vector = embeddings_dictionary.get(word)\n",
        "    if embedding_vector is not None:\n",
        "        embeddings_matrix[index] = embedding_vector"
      ],
      "metadata": {
        "execution": {
          "iopub.status.busy": "2022-05-02T11:55:50.392012Z",
          "iopub.execute_input": "2022-05-02T11:55:50.392294Z",
          "iopub.status.idle": "2022-05-02T11:56:01.23993Z",
          "shell.execute_reply.started": "2022-05-02T11:55:50.392258Z",
          "shell.execute_reply": "2022-05-02T11:56:01.239155Z"
        },
        "trusted": true,
        "id": "KEtrVbc5S8oz"
      },
      "execution_count": null,
      "outputs": []
    },
    {
      "cell_type": "code",
      "source": [
        "embedding_layer = tf.keras.layers.Embedding(vocab_size, embedding_dim, input_length=max_length, weights=[embeddings_matrix], trainable=False)"
      ],
      "metadata": {
        "execution": {
          "iopub.status.busy": "2022-05-02T11:56:01.241414Z",
          "iopub.execute_input": "2022-05-02T11:56:01.241716Z",
          "iopub.status.idle": "2022-05-02T11:56:01.247519Z",
          "shell.execute_reply.started": "2022-05-02T11:56:01.241681Z",
          "shell.execute_reply": "2022-05-02T11:56:01.246521Z"
        },
        "trusted": true,
        "id": "_bRL_67gS8oz"
      },
      "execution_count": null,
      "outputs": []
    },
    {
      "cell_type": "code",
      "source": [
        "num_epochs = 10\n",
        "batch_size = 1000"
      ],
      "metadata": {
        "execution": {
          "iopub.status.busy": "2022-05-02T11:56:01.249241Z",
          "iopub.execute_input": "2022-05-02T11:56:01.249755Z",
          "iopub.status.idle": "2022-05-02T11:56:01.258274Z",
          "shell.execute_reply.started": "2022-05-02T11:56:01.249718Z",
          "shell.execute_reply": "2022-05-02T11:56:01.257576Z"
        },
        "trusted": true,
        "id": "gD3xUAlPS8oz"
      },
      "execution_count": null,
      "outputs": []
    },
    {
      "cell_type": "code",
      "source": [
        "model = Sequential([\n",
        "        embedding_layer,\n",
        "        tf.keras.layers.Bidirectional(LSTM(128, return_sequences=True)),\n",
        "        tf.keras.layers.Dropout(0.3),\n",
        "        tf.keras.layers.Bidirectional(LSTM(128)),\n",
        "        tf.keras.layers.Dropout(0.3),\n",
        "        tf.keras.layers.Dense(64, activation='relu'),\n",
        "        tf.keras.layers.Dense(1, activation='sigmoid'),\n",
        "    ])"
      ],
      "metadata": {
        "execution": {
          "iopub.status.busy": "2022-05-02T11:56:01.259934Z",
          "iopub.execute_input": "2022-05-02T11:56:01.26036Z",
          "iopub.status.idle": "2022-05-02T11:56:02.224054Z",
          "shell.execute_reply.started": "2022-05-02T11:56:01.260322Z",
          "shell.execute_reply": "2022-05-02T11:56:02.223314Z"
        },
        "trusted": true,
        "id": "FgIPEWJXS8o0"
      },
      "execution_count": null,
      "outputs": []
    },
    {
      "cell_type": "code",
      "source": [
        "model.summary()"
      ],
      "metadata": {
        "execution": {
          "iopub.status.busy": "2022-05-02T11:56:02.225108Z",
          "iopub.execute_input": "2022-05-02T11:56:02.225345Z",
          "iopub.status.idle": "2022-05-02T11:56:02.238649Z",
          "shell.execute_reply.started": "2022-05-02T11:56:02.225313Z",
          "shell.execute_reply": "2022-05-02T11:56:02.236921Z"
        },
        "trusted": true,
        "id": "7BPfCxdGS8o0"
      },
      "execution_count": null,
      "outputs": []
    },
    {
      "cell_type": "code",
      "source": [
        "tf.keras.utils.plot_model(model, show_shapes=True)"
      ],
      "metadata": {
        "execution": {
          "iopub.status.busy": "2022-05-02T11:56:02.24237Z",
          "iopub.execute_input": "2022-05-02T11:56:02.242851Z",
          "iopub.status.idle": "2022-05-02T11:56:02.574914Z",
          "shell.execute_reply.started": "2022-05-02T11:56:02.242822Z",
          "shell.execute_reply": "2022-05-02T11:56:02.574099Z"
        },
        "trusted": true,
        "id": "Gb6bR50MS8o0"
      },
      "execution_count": null,
      "outputs": []
    },
    {
      "cell_type": "code",
      "source": [
        "model.compile(loss='binary_crossentropy', optimizer=Adam(learning_rate=0.001,epsilon=1e-07), metrics=['accuracy'])\n",
        "history = model.fit(X_train, y_train, batch_size = batch_size, epochs=num_epochs, validation_data=(X_test, y_test), verbose=1)"
      ],
      "metadata": {
        "execution": {
          "iopub.status.busy": "2022-05-02T11:56:02.576825Z",
          "iopub.execute_input": "2022-05-02T11:56:02.577112Z",
          "iopub.status.idle": "2022-05-02T12:04:28.993087Z",
          "shell.execute_reply.started": "2022-05-02T11:56:02.577072Z",
          "shell.execute_reply": "2022-05-02T12:04:28.992299Z"
        },
        "trusted": true,
        "id": "gu_ciNMSS8o0"
      },
      "execution_count": null,
      "outputs": []
    },
    {
      "cell_type": "code",
      "source": [
        "y_pred = model.predict(X_test)\n",
        "y_pred = np.where(y_pred>0.5, 1, 0)"
      ],
      "metadata": {
        "execution": {
          "iopub.status.busy": "2022-05-02T12:04:28.997911Z",
          "iopub.execute_input": "2022-05-02T12:04:29.000464Z",
          "iopub.status.idle": "2022-05-02T12:05:10.97022Z",
          "shell.execute_reply.started": "2022-05-02T12:04:29.000417Z",
          "shell.execute_reply": "2022-05-02T12:05:10.969301Z"
        },
        "trusted": true,
        "id": "-9KURzMDS8o0"
      },
      "execution_count": null,
      "outputs": []
    },
    {
      "cell_type": "code",
      "source": [
        "print(classification_report(y_test, y_pred))"
      ],
      "metadata": {
        "execution": {
          "iopub.status.busy": "2022-05-02T12:05:10.971813Z",
          "iopub.execute_input": "2022-05-02T12:05:10.972101Z",
          "iopub.status.idle": "2022-05-02T12:05:11.264316Z",
          "shell.execute_reply.started": "2022-05-02T12:05:10.972063Z",
          "shell.execute_reply": "2022-05-02T12:05:11.263575Z"
        },
        "trusted": true,
        "id": "_UNSboyGS8o0"
      },
      "execution_count": null,
      "outputs": []
    },
    {
      "cell_type": "code",
      "source": [
        "#History for accuracy\n",
        "plt.figure(figsize=(10,5))\n",
        "plt.plot(history.history['accuracy'])\n",
        "plt.plot(history.history['val_accuracy'])\n",
        "plt.title('model accuracy')\n",
        "plt.ylabel('accuracy')\n",
        "plt.xlabel('epoch')\n",
        "plt.legend(['Train accuracy', 'Test accuracy'], loc='lower right')\n",
        "plt.show()\n",
        "# History for loss\n",
        "plt.figure(figsize=(10,5))\n",
        "plt.plot(history.history['loss'])\n",
        "plt.plot(history.history['val_loss'])\n",
        "plt.title('model loss')\n",
        "plt.ylabel('loss')\n",
        "plt.xlabel('epoch')\n",
        "plt.legend(['Train loss', 'Test loss'], loc='upper right')\n",
        "plt.suptitle('Accuracy and loss for second model')\n",
        "plt.show()"
      ],
      "metadata": {
        "execution": {
          "iopub.status.busy": "2022-05-02T12:05:11.26548Z",
          "iopub.execute_input": "2022-05-02T12:05:11.266078Z",
          "iopub.status.idle": "2022-05-02T12:05:11.663042Z",
          "shell.execute_reply.started": "2022-05-02T12:05:11.266036Z",
          "shell.execute_reply": "2022-05-02T12:05:11.662339Z"
        },
        "trusted": true,
        "id": "ukVjbuX_S8o0"
      },
      "execution_count": null,
      "outputs": []
    }
  ]
}